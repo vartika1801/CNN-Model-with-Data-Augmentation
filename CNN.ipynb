{
 "cells": [
  {
   "cell_type": "markdown",
   "id": "1499d8e4-847d-481e-8707-683cd88ec52e",
   "metadata": {},
   "source": [
    "### CNN Model"
   ]
  },
  {
   "cell_type": "code",
   "execution_count": 3,
   "id": "a9f67bfa-f78f-4331-8cf7-dc86387714f5",
   "metadata": {},
   "outputs": [],
   "source": [
    "# Data Augmentation using Python and Keras "
   ]
  },
  {
   "cell_type": "code",
   "execution_count": 9,
   "id": "a188cd88-9f1a-4af0-8e2f-0187c2ceca66",
   "metadata": {},
   "outputs": [
    {
     "ename": "SyntaxError",
     "evalue": "unexpected character after line continuation character (944965631.py, line 1)",
     "output_type": "error",
     "traceback": [
      "\u001b[0;36m  Cell \u001b[0;32mIn[9], line 1\u001b[0;36m\u001b[0m\n\u001b[0;31m    dataset\\\\single_prediction\\\\cat_or_dog_2\u001b[0m\n\u001b[0m            ^\u001b[0m\n\u001b[0;31mSyntaxError\u001b[0m\u001b[0;31m:\u001b[0m unexpected character after line continuation character\n"
     ]
    }
   ],
   "source": [
    "# dataset\\single_prediction\\cat_or_dog_2\n",
    "##https://www.kaggle.com/c/dogs-vs-cats"
   ]
  },
  {
   "cell_type": "code",
   "execution_count": 8,
   "id": "67cd1bf5-a15d-47ef-a276-fbe2023f6010",
   "metadata": {},
   "outputs": [],
   "source": [
    "from tensorflow.keras.preprocessing.image import ImageDataGenerator, array_to_img,img_to_array,load_img\n",
    "# ImageDataGenerator - used to apply all data augmentation properties \n",
    "datagen=ImageDataGenerator(\n",
    "    rotation_range=40,\n",
    "    width_shift_range=0.2,\n",
    "    height_shift_range=0.2,\n",
    "    shear_range=0.2,\n",
    "    zoom_range=0.2,\n",
    "    horizontal_flip=True,\n",
    "    fill_mode='nearest'\n",
    ")\n",
    "img=load_img('cat.jpg')\n",
    "x=img_to_array(img) #this is a numpy array\n",
    "x=x.reshape((1,)+x.shape) #this is a numpy array with shape (1,3,150,150)\n",
    "# .flow() command generates batches of randomly transformed images and saves result to directory \n",
    "i=0\n",
    "# batch_size= number of images created at a time \n",
    "# save_to_dir='preview' -- directory to save images \n",
    "for batch in datagen.flow(x,batch_size=1,save_to_dir='preview',save_prefix='cat',save_format='jpeg'):\n",
    "    i+=1\n",
    "    if i>20:\n",
    "        break "
   ]
  },
  {
   "cell_type": "code",
   "execution_count": null,
   "id": "ea972dff-17f5-45c3-a563-860fdf2a9d3c",
   "metadata": {},
   "outputs": [],
   "source": []
  }
 ],
 "metadata": {
  "kernelspec": {
   "display_name": "Python 3 (ipykernel)",
   "language": "python",
   "name": "python3"
  },
  "language_info": {
   "codemirror_mode": {
    "name": "ipython",
    "version": 3
   },
   "file_extension": ".py",
   "mimetype": "text/x-python",
   "name": "python",
   "nbconvert_exporter": "python",
   "pygments_lexer": "ipython3",
   "version": "3.12.2"
  }
 },
 "nbformat": 4,
 "nbformat_minor": 5
}
